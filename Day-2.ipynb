{
 "cells": [
  {
   "cell_type": "markdown",
   "metadata": {},
   "source": [
    "# To Day Agenda\n",
    "* Excution of Commands in Python Shell\n",
    "- Data Types\n",
    "    + int\n",
    "    + float\n",
    "    + bool\n",
    "    + complex \n",
    "    + string\n",
    " + + i/p And o/p\n",
    " * Program Execution in idle\n",
    " * program  Execution in command prompt\n",
    " + Git Hub Account creation"
   ]
  }
 ],
 "metadata": {
  "kernelspec": {
   "display_name": "Python 3",
   "language": "python",
   "name": "python3"
  },
  "language_info": {
   "codemirror_mode": {
    "name": "ipython",
    "version": 3
   },
   "file_extension": ".py",
   "mimetype": "text/x-python",
   "name": "python",
   "nbconvert_exporter": "python",
   "pygments_lexer": "ipython3",
   "version": "3.8.5"
  }
 },
 "nbformat": 4,
 "nbformat_minor": 4
}
